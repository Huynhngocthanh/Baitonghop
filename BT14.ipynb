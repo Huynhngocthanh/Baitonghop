{
  "nbformat": 4,
  "nbformat_minor": 0,
  "metadata": {
    "colab": {
      "name": "BT14.ipynb",
      "provenance": [],
      "authorship_tag": "ABX9TyMZ1DQUi7qNhzxBcPdLlaV6",
      "include_colab_link": true
    },
    "kernelspec": {
      "name": "python3",
      "display_name": "Python 3"
    },
    "language_info": {
      "name": "python"
    }
  },
  "cells": [
    {
      "cell_type": "markdown",
      "metadata": {
        "id": "view-in-github",
        "colab_type": "text"
      },
      "source": [
        "<a href=\"https://colab.research.google.com/github/Huynhngocthanh/Baitonghop/blob/main/BT14.ipynb\" target=\"_parent\"><img src=\"https://colab.research.google.com/assets/colab-badge.svg\" alt=\"Open In Colab\"/></a>"
      ]
    },
    {
      "cell_type": "code",
      "metadata": {
        "id": "bgeF_JIEfdXl"
      },
      "source": [
        "def  Selection_sort ( nums ):\n",
        "    # Giá trị này của tôi tương ứng với số lượng giá trị đã được sắp xếp\n",
        "    cho  tôi  trong  phạm vi ( len ( nums )):\n",
        "        # Chúng tôi giả định rằng mục đầu tiên của phân đoạn chưa được sắp xếp là mục nhỏ nhất\n",
        "        low_value_index  =  i\n",
        "        # Vòng lặp này lặp lại các mục chưa được sắp xếp\n",
        "        cho  j  trong  dải ô ( i  +  1 , len ( nums )):\n",
        "            nếu  nums [ j ] <  nums [ low_value_index ]:\n",
        "                low_value_index  =  j\n",
        "        # Hoán đổi các giá trị của phần tử chưa được sắp xếp thấp nhất với phần tử chưa được sắp xếp đầu tiên\n",
        "        # thành phần\n",
        "        nums [ i ], nums [ low_value_index ] =  nums [ low_value_index ], nums [ i ]\n",
        "\n",
        "\n",
        "# Xác minh nó hoạt động\n",
        "random_list_of_nums  = [ 12 , 8 , 3 , 20 , 11 ]\n",
        "selection_sort ( random_list_of_nums )\n",
        "print ( random_list_of_nums )\n",
        "print(random_list_of_nums)"
      ],
      "execution_count": null,
      "outputs": []
    }
  ]
}