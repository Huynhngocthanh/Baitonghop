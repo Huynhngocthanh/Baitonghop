{
  "nbformat": 4,
  "nbformat_minor": 0,
  "metadata": {
    "colab": {
      "name": "BT08.ipynb",
      "provenance": [],
      "authorship_tag": "ABX9TyOGrx5ua6iMA84Fe6uIXWsX",
      "include_colab_link": true
    },
    "kernelspec": {
      "name": "python3",
      "display_name": "Python 3"
    },
    "language_info": {
      "name": "python"
    }
  },
  "cells": [
    {
      "cell_type": "markdown",
      "metadata": {
        "id": "view-in-github",
        "colab_type": "text"
      },
      "source": [
        "<a href=\"https://colab.research.google.com/github/Huynhngocthanh/Baitonghop/blob/main/BT08.ipynb\" target=\"_parent\"><img src=\"https://colab.research.google.com/assets/colab-badge.svg\" alt=\"Open In Colab\"/></a>"
      ]
    },
    {
      "cell_type": "code",
      "metadata": {
        "id": "fTcYSGW6eGIG"
      },
      "source": [
        "class Stack:\n",
        "\n",
        "\tdef __init__(self):\n",
        "\t\tself.items = []\n",
        "\n",
        "\tdef isEmpty(self):\n",
        "\t\treturn self.items == []\n",
        "\n",
        "\tdef push(self, item):\n",
        "\t\tself.items.append(item)\n",
        "\n",
        "\tdef pop(self):\n",
        "\t\treturn self.items.pop()\n",
        "\n",
        "\tdef peek(self):\n",
        "\t\treturn self.items[len(self.items) - 1]\n",
        "\n",
        "\tdef size(self):\n",
        "\t\treturn len(self.items)\n",
        "\n",
        "if __name__ == \"__main__\":\n",
        "\ts = Stack()\n",
        "\tprint (\"Is empty: \" + str(s.isEmpty()))\n",
        "\ts.push(4)\n",
        "\ts.push('dog')\n",
        "\ts.push(True)\n",
        "\ts.push(8.4)\n",
        "\tprint (\"Peek of Stack: \" + str(s.peek()))\n",
        "\tprint (\"Items:\",)\n",
        "\tprint (s.items)\n",
        "\tprint (\"Size: \" + str(s.size()))\n",
        "\tprint (\"Pop: \" + str(s.pop()))\n",
        "\n",
        "\tprint (\"Items:\",)\n",
        "\tprint (s.items)\n",
        "\tprint (\"Size: \" + str(s.size()))"
      ],
      "execution_count": null,
      "outputs": []
    }
  ]
}