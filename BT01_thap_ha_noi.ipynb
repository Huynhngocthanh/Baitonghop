{
  "nbformat": 4,
  "nbformat_minor": 0,
  "metadata": {
    "colab": {
      "name": "BT01.thap_ha_noi.ipynb",
      "provenance": [],
      "authorship_tag": "ABX9TyNvuLc6hMp8ogYnomRb8kI7",
      "include_colab_link": true
    },
    "kernelspec": {
      "name": "python3",
      "display_name": "Python 3"
    },
    "language_info": {
      "name": "python"
    }
  },
  "cells": [
    {
      "cell_type": "markdown",
      "metadata": {
        "id": "view-in-github",
        "colab_type": "text"
      },
      "source": [
        "<a href=\"https://colab.research.google.com/github/Huynhngocthanh/Baitonghop/blob/main/BT01_thap_ha_noi.ipynb\" target=\"_parent\"><img src=\"https://colab.research.google.com/assets/colab-badge.svg\" alt=\"Open In Colab\"/></a>"
      ]
    },
    {
      "cell_type": "code",
      "metadata": {
        "id": "ggQLUGvtZIdN"
      },
      "source": [
        "n = int(input('nhap so dia:'))\n",
        "def thaphanoi(n, cot_goc, cot_cuoi, trung_gian):\n",
        "  if n == 1:\n",
        "    print(\"Di chuyển dĩa 1 từ cột\",cot_goc,\"đến cột\",cot_cuoi)\n",
        "    return\n",
        "  thaphanoi(n-1, cot_goc, trung_gian, cot_cuoi)\n",
        "  print (\"Di chuyển dĩa \",n,\"từ cột\",cot_goc,\"đến cột\",cot_cuoi)\n",
        "  thaphanoi(n-1, trung_gian, cot_cuoi, cot_goc)\n",
        "print(thaphanoi(n,\"gốc\",\"cuối\",\"trung gian\"))"
      ],
      "execution_count": null,
      "outputs": []
    }
  ]
}