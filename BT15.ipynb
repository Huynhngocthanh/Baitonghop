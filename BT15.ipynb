{
  "nbformat": 4,
  "nbformat_minor": 0,
  "metadata": {
    "colab": {
      "name": "BT15.ipynb",
      "provenance": [],
      "authorship_tag": "ABX9TyNER6SEHkru5H+8tuw9V1oJ",
      "include_colab_link": true
    },
    "kernelspec": {
      "name": "python3",
      "display_name": "Python 3"
    },
    "language_info": {
      "name": "python"
    }
  },
  "cells": [
    {
      "cell_type": "markdown",
      "metadata": {
        "id": "view-in-github",
        "colab_type": "text"
      },
      "source": [
        "<a href=\"https://colab.research.google.com/github/Huynhngocthanh/Baitonghop/blob/main/BT15.ipynb\" target=\"_parent\"><img src=\"https://colab.research.google.com/assets/colab-badge.svg\" alt=\"Open In Colab\"/></a>"
      ]
    },
    {
      "cell_type": "code",
      "metadata": {
        "id": "AM_mAv8NgkKO"
      },
      "source": [
        "def  insertion_sort ( nums ):\n",
        "    # Bắt đầu trên phần tử thứ hai vì chúng tôi giả sử phần tử đầu tiên đã được sắp xếp\n",
        "    cho  tôi  trong  phạm vi ( 1 , len ( nums )):\n",
        "        item_to_insert  =  nums [ i ]\n",
        "        # Và giữ một tham chiếu về chỉ mục của phần tử trước đó\n",
        "        j  =  i  -  1\n",
        "        # Di chuyển tất cả các mục của phân đoạn đã sắp xếp về phía trước nếu chúng lớn hơn\n",
        "        # mục để chèn\n",
        "        while  j  > =  0  and  nums [ j ] >  item_to_insert :\n",
        "            nums [ j  +  1 ] =  nums [ j ]\n",
        "            j  - =  1\n",
        "        # Chèn mục\n",
        "        nums [ j  +  1 ] =  item_to_insert\n",
        "\n",
        "\n",
        "# Xác minh nó hoạt động\n",
        "random_list_of_nums  = [ 9 , 1 , 15 , 28 , 6 ]\n",
        "inserttion_sort ( random_list_of_nums )\n",
        "print ( random_list_of_nums )"
      ],
      "execution_count": null,
      "outputs": []
    }
  ]
}