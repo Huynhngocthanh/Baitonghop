{
  "nbformat": 4,
  "nbformat_minor": 0,
  "metadata": {
    "colab": {
      "name": "BT18_heap_sort.ipynb",
      "provenance": [],
      "authorship_tag": "ABX9TyMJ420IBXhrNf0GIXhW8hfR",
      "include_colab_link": true
    },
    "kernelspec": {
      "name": "python3",
      "display_name": "Python 3"
    },
    "language_info": {
      "name": "python"
    }
  },
  "cells": [
    {
      "cell_type": "markdown",
      "metadata": {
        "id": "view-in-github",
        "colab_type": "text"
      },
      "source": [
        "<a href=\"https://colab.research.google.com/github/Huynhngocthanh/Baitonghop/blob/main/BT18_heap_sort.ipynb\" target=\"_parent\"><img src=\"https://colab.research.google.com/assets/colab-badge.svg\" alt=\"Open In Colab\"/></a>"
      ]
    },
    {
      "cell_type": "code",
      "metadata": {
        "id": "iV5gFv47i1ki"
      },
      "source": [
        "heap.building <- function(vec)\n",
        "{\n",
        "  len = length(vec)\n",
        "  heap = vec\n",
        "  for (j in len:1)\n",
        "  {\n",
        "    heap = modify.heap(heap,j)\n",
        "  }\n",
        "  return(heap)\n",
        "}\n",
        "\n",
        "\n",
        "\n",
        "is.heap <- function(heap,root_i)\n",
        "{\n",
        "  i = root_i\n",
        "  res = T\n",
        "  while(2*i<=length(heap)&res)\n",
        "  {\n",
        "    son = c(heap[2*i],heap[2*i+1])\n",
        "    son = son[!is.na(son)]\n",
        "    res = all(heap[i]<=son)\n",
        "    i = i+1\n",
        "  }\n",
        "  return(res)\n",
        "}\n",
        "\n",
        "\n",
        "modify.heap <- function(heap,root_i)\n",
        "{\n",
        "  len = length(heap)\n",
        "  flag = 1\n",
        "  \n",
        "  while (root_i*2<=len&&flag==1)\n",
        "  {\n",
        "    left_i = root_i*2\n",
        "    right_i = root_i*2+1\n",
        "    flag = 0\n",
        "    son = c(heap[left_i],heap[right_i])\n",
        "    son = son[!is.na(son)]\n",
        "    min_ind = which.min(son)\n",
        "    if (heap[root_i]>son[min_ind])\n",
        "    {\n",
        "      flag = 1\n",
        "      heap_ind = c(left_i,right_i)[min_ind]\n",
        "      \n",
        "      tmp = heap[heap_ind]\n",
        "      heap[heap_ind] = heap[root_i]\n",
        "      heap[root_i] = tmp\n",
        "      \n",
        "      root_i = heap_ind\n",
        "    }\n",
        "  }\n",
        "  return(heap)\n",
        "}\n",
        "\n",
        "heap.sort <- function(heap)\n",
        "{\n",
        "  sorted = NULL\n",
        "  len = length(heap)\n",
        "  while(len>0)\n",
        "  {\n",
        "    sorted = c(sorted,heap[1])\n",
        "    len = length(heap)\n",
        "    heap[1] = heap[len]\n",
        "    heap = heap[1:(len-1)]\n",
        "    heap = modify.heap(heap,root_i=1)\n",
        "    len = len-1\n",
        "  }\n",
        "  return(sorted)\n",
        "}\n",
        "\n",
        "vec = sample(1:50)\n",
        "heap = heap.building(vec)\n",
        "heap_sort = heap.sort(heap)\n",
        "vec\n",
        "heap\n",
        "heap_sort"
      ],
      "execution_count": null,
      "outputs": []
    }
  ]
}