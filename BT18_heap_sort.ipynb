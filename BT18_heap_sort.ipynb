{
  "nbformat": 4,
  "nbformat_minor": 0,
  "metadata": {
    "colab": {
      "name": "BT18_heap_sort.ipynb",
      "provenance": [],
      "authorship_tag": "ABX9TyNPKgXy89wHyfdVBYohqUVU",
      "include_colab_link": true
    },
    "kernelspec": {
      "name": "python3",
      "display_name": "Python 3"
    },
    "language_info": {
      "name": "python"
    }
  },
  "cells": [
    {
      "cell_type": "markdown",
      "metadata": {
        "id": "view-in-github",
        "colab_type": "text"
      },
      "source": [
        "<a href=\"https://colab.research.google.com/github/Huynhngocthanh/Baitonghop/blob/main/BT18_heap_sort.ipynb\" target=\"_parent\"><img src=\"https://colab.research.google.com/assets/colab-badge.svg\" alt=\"Open In Colab\"/></a>"
      ]
    },
    {
      "cell_type": "code",
      "metadata": {
        "id": "iV5gFv47i1ki"
      },
      "source": [
        "def heaps(arr, n, i):\n",
        "    largest = i  # Khởi tạo lớn nhất dưới dạng root\n",
        "    l = 2 * i + 1  # left = 2*i + 1\n",
        "    r = 2 * i + 2  # right = 2*i + 2\n",
        "\n",
        "    # Xem liệu left child của root có tồn tại và lớn hơn root hay không\n",
        "    if l < n and arr[largest] < arr[l]:\n",
        "        largest = l\n",
        "\n",
        "    # Xem liệu right child của root có tồn tại và lớn hơn root hay không\n",
        "    if r < n and arr[largest] < arr[r]:\n",
        "        largest = r\n",
        "\n",
        "    # Thay đổi root, nếu cần\n",
        "    if largest != i:\n",
        "        arr[i], arr[largest] = arr[largest], arr[i]  # swap\n",
        "\n",
        "        # Xử lý root.\n",
        "        heaps(arr, n, largest)\n",
        "\n",
        "\n",
        "# Hàm chính để sắp xếp một mảng có kích thước nhất định\n",
        "\n",
        "\n",
        "def heapSort(arr):\n",
        "    n = len(arr)\n",
        "\n",
        "    # Xây dụng 1 maxheap.\n",
        "    for i in range(n // 2 - 1, -1, -1):\n",
        "        heaps(arr, n, i)\n",
        "\n",
        "    # Từng phần tử trích xuất một\n",
        "    for i in range(n - 1, 0, -1):\n",
        "        arr[i], arr[0] = arr[0], arr[i]  # swap\n",
        "        heaps(arr, i, 0)\n",
        "\n",
        "\n",
        "# Mã \n",
        "arr = [1, 50, 138, 25, 17, 89]\n",
        "heapSort(arr)\n",
        "n = len(arr)\n",
        "print(\"Sorted array is\")\n",
        "for i in range(n):\n",
        "    print(\"%d\" % arr[i])"
      ],
      "execution_count": null,
      "outputs": []
    }
  ]
}