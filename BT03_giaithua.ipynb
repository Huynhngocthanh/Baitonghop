{
  "nbformat": 4,
  "nbformat_minor": 0,
  "metadata": {
    "colab": {
      "name": "BT03_giaithua.ipynb",
      "provenance": [],
      "authorship_tag": "ABX9TyO+GHhC7QNCwRdcUez3drzd",
      "include_colab_link": true
    },
    "kernelspec": {
      "name": "python3",
      "display_name": "Python 3"
    },
    "language_info": {
      "name": "python"
    }
  },
  "cells": [
    {
      "cell_type": "markdown",
      "metadata": {
        "id": "view-in-github",
        "colab_type": "text"
      },
      "source": [
        "<a href=\"https://colab.research.google.com/github/Huynhngocthanh/Baitonghop/blob/main/BT03_giaithua.ipynb\" target=\"_parent\"><img src=\"https://colab.research.google.com/assets/colab-badge.svg\" alt=\"Open In Colab\"/></a>"
      ]
    },
    {
      "cell_type": "code",
      "metadata": {
        "id": "9kC_D2RzbzYv"
      },
      "source": [
        "n = int(input(\"Nhập số cần tính giai thừa: \"))\n",
        " \n",
        "def giaithua(n):\n",
        "    if n == 0:\n",
        "        return 1\n",
        "    return n * giaithua(n - 1)\n",
        " \n",
        "print(giaithua(n))"
      ],
      "execution_count": null,
      "outputs": []
    }
  ]
}