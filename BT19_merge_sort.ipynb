{
  "nbformat": 4,
  "nbformat_minor": 0,
  "metadata": {
    "colab": {
      "name": "BT19_merge_sort.ipynb",
      "provenance": [],
      "authorship_tag": "ABX9TyNNWyLG8auje60yMX52ihcO",
      "include_colab_link": true
    },
    "kernelspec": {
      "name": "python3",
      "display_name": "Python 3"
    },
    "language_info": {
      "name": "python"
    }
  },
  "cells": [
    {
      "cell_type": "markdown",
      "metadata": {
        "id": "view-in-github",
        "colab_type": "text"
      },
      "source": [
        "<a href=\"https://colab.research.google.com/github/Huynhngocthanh/Baitonghop/blob/main/BT19_merge_sort.ipynb\" target=\"_parent\"><img src=\"https://colab.research.google.com/assets/colab-badge.svg\" alt=\"Open In Colab\"/></a>"
      ]
    },
    {
      "cell_type": "code",
      "metadata": {
        "id": "iV5gFv47i1ki"
      },
      "source": [
        "def merge(left_list, right_list):\n",
        "    sorted_list = []\n",
        "    left_list_index = right_list_index = 0\n",
        "\n",
        "    # Chúng ta sử dụng độ dài danh sách thường xuyên, vì vậy rất tiện lợi khi tạo các biến\n",
        "    left_list_length, right_list_length = len(left_list), len(right_list)\n",
        "\n",
        "    for _ in range(left_list_length + right_list_length):\n",
        "        if left_list_index < left_list_length and right_list_index < right_list_length:\n",
        "            # Chúng ta kiểm tra giá trị nào từ đầu danh sách nhỏ hơn\n",
        "            # Nếu mục ở đầu danh sách bên trái nhỏ hơn, hãy thêm nó vào\n",
        "            # vào danh sách đã sắp xếp\n",
        "            if left_list[left_list_index] <= right_list[right_list_index]:\n",
        "                sorted_list.append(left_list[left_list_index])\n",
        "                left_list_index += 1\n",
        "            # Nếu mục ở đầu danh sách bên phải nhỏ hơn, hãy thêm nó vào\n",
        "            # vào danh sách đã sắp xếp\n",
        "            else:\n",
        "                sorted_list.append(right_list[right_list_index])\n",
        "                right_list_index += 1\n",
        "\n",
        "        # Nếu chúng ta đã đến cuối danh sách bên trái, hãy thêm các phần tử\n",
        "        # từ danh sách bên phải\n",
        "        elif left_list_index == left_list_length:\n",
        "            sorted_list.append(right_list[right_list_index])\n",
        "            right_list_index += 1\n",
        "        # Nếu chúng ta đã đến cuối danh sách bên phải, hãy thêm các phần tử\n",
        "        # từ danh sách bên trái\n",
        "        elif right_list_index == right_list_length:\n",
        "            sorted_list.append(left_list[left_list_index])\n",
        "            left_list_index += 1\n",
        "\n",
        "    return sorted_list\n",
        "\n",
        "\n",
        "def merge_sort(nums):\n",
        "    # Nếu danh sách là một phần tử duy nhất, hãy trả về\n",
        "    if len(nums) <= 1:\n",
        "        return nums\n",
        "\n",
        "    # Sử dụng phép chia tầng để lấy điểm giữa, các chỉ số phải là số nguyên\n",
        "    mid = len(nums) // 2\n",
        "\n",
        "    # Sắp xếp và hợp nhất từng nửa\n",
        "    left_list = merge_sort(nums[:mid])\n",
        "    right_list = merge_sort(nums[mid:])\n",
        "\n",
        "    # Hợp nhất các danh sách đã sắp xếp thành một danh sách mới\n",
        "    return merge(left_list, right_list)\n",
        "\n",
        "\n",
        "random_list_of_nums = [120, 45, 68, 250, 176]\n",
        "random_list_of_nums = merge_sort(random_list_of_nums)\n",
        "print(random_list_of_nums)"
      ],
      "execution_count": null,
      "outputs": []
    }
  ]
}