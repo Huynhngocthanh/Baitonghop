{
  "nbformat": 4,
  "nbformat_minor": 0,
  "metadata": {
    "colab": {
      "name": "BT16.ipynb",
      "provenance": [],
      "authorship_tag": "ABX9TyMNaBNZ4amq4AoKij/zphpj",
      "include_colab_link": true
    },
    "kernelspec": {
      "name": "python3",
      "display_name": "Python 3"
    },
    "language_info": {
      "name": "python"
    }
  },
  "cells": [
    {
      "cell_type": "markdown",
      "metadata": {
        "id": "view-in-github",
        "colab_type": "text"
      },
      "source": [
        "<a href=\"https://colab.research.google.com/github/Huynhngocthanh/Baitonghop/blob/main/BT16.ipynb\" target=\"_parent\"><img src=\"https://colab.research.google.com/assets/colab-badge.svg\" alt=\"Open In Colab\"/></a>"
      ]
    },
    {
      "cell_type": "code",
      "metadata": {
        "id": "iV5gFv47i1ki"
      },
      "source": [
        "def bubble_sort(nums):\n",
        "    # Chúng ta đặt hoán đổi thành True để vòng lặp chạy ít nhất một lần\n",
        "    swapped = True\n",
        "    while swapped:\n",
        "        swapped = False\n",
        "        for i in range(len(nums) - 1):\n",
        "            if nums[i] > nums[i + 1]:\n",
        "                # Hoán đổi các phần tử\n",
        "                nums[i], nums[i + 1] = nums[i + 1], nums[i]\n",
        "                # Đặt cờ thành True để chúng ta lặp lại\n",
        "                swapped = True\n",
        "\n",
        "\n",
        "random_list_of_nums = [5, 2, 1, 8, 4]\n",
        "bubble_sort(random_list_of_nums)\n",
        "print(random_list_of_nums)"
      ],
      "execution_count": null,
      "outputs": []
    }
  ]
}