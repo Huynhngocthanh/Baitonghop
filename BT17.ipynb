{
  "nbformat": 4,
  "nbformat_minor": 0,
  "metadata": {
    "colab": {
      "name": "BT17.ipynb",
      "provenance": [],
      "authorship_tag": "ABX9TyNVkKhWWfyXieSVDE5e2Tm6",
      "include_colab_link": true
    },
    "kernelspec": {
      "name": "python3",
      "display_name": "Python 3"
    },
    "language_info": {
      "name": "python"
    }
  },
  "cells": [
    {
      "cell_type": "markdown",
      "metadata": {
        "id": "view-in-github",
        "colab_type": "text"
      },
      "source": [
        "<a href=\"https://colab.research.google.com/github/Huynhngocthanh/Baitonghop/blob/main/BT17.ipynb\" target=\"_parent\"><img src=\"https://colab.research.google.com/assets/colab-badge.svg\" alt=\"Open In Colab\"/></a>"
      ]
    },
    {
      "cell_type": "code",
      "metadata": {
        "id": "iV5gFv47i1ki"
      },
      "source": [
        "# Có nhiều cách khác nhau để thực hiện phân vùng Sắp xếp Nhanh, điều này thực hiện\n",
        "# Lược đồ phân vùng dự trữ. Tony Hoare cũng tạo ra thuật toán Sắp xếp nhanh.\n",
        "def partition(nums, low, high):\n",
        "    # Chúng ta chọn phần tử ở giữa để làm trục. Một số triển khai chọn\n",
        "    # phần tử đầu tiên hoặc phần tử cuối cùng. Đôi khi giá trị trung bình trở thành\n",
        "    # trục xoay hoặc một trục ngẫu nhiên. Có nhiều chiến lược khác có thể\n",
        "    # đã chọn hoặc đã tạo.\n",
        "    pivot = nums[(low + high) // 2]\n",
        "    i = low - 1\n",
        "    j = high + 1\n",
        "    while True:\n",
        "        i += 1\n",
        "        while nums[i] < pivot:\n",
        "            i += 1\n",
        "\n",
        "        j -= 1\n",
        "        while nums[j] > pivot:\n",
        "            j -= 1\n",
        "\n",
        "        if i >= j:\n",
        "            return j\n",
        "\n",
        "        # Nếu một phần tử tại i (bên trái trục quay) lớn hơn\n",
        "        # phần tử tại j (ở bên phải trục quay), sau đó hoán đổi chúng\n",
        "        nums[i], nums[j] = nums[j], nums[i]\n",
        "\n",
        "\n",
        "def quick_sort(nums):\n",
        "    # Tạo một hàm trợ giúp sẽ được gọi một cách đệ quy\n",
        "    def _quick_sort(items, low, high):\n",
        "        if low < high:\n",
        "            # Đây là chỉ mục sau trục xoay, nơi danh sách của chúng ta được phân chia\n",
        "            split_index = partition(items, low, high)\n",
        "            _quick_sort(items, low, split_index)\n",
        "            _quick_sort(items, split_index + 1, high)\n",
        "\n",
        "    _quick_sort(nums, 0, len(nums) - 1)\n",
        "\n",
        "\n",
        "\n",
        "random_list_of_nums = [22, 5, 1, 18, 99]\n",
        "quick_sort(random_list_of_nums)\n",
        "print(random_list_of_nums)"
      ],
      "execution_count": null,
      "outputs": []
    }
  ]
}