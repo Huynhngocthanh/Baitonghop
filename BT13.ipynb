{
  "nbformat": 4,
  "nbformat_minor": 0,
  "metadata": {
    "colab": {
      "name": "BT13.ipynb",
      "provenance": [],
      "authorship_tag": "ABX9TyMlHNP9ijMgp7fh29XEfGU6",
      "include_colab_link": true
    },
    "kernelspec": {
      "name": "python3",
      "display_name": "Python 3"
    },
    "language_info": {
      "name": "python"
    }
  },
  "cells": [
    {
      "cell_type": "markdown",
      "metadata": {
        "id": "view-in-github",
        "colab_type": "text"
      },
      "source": [
        "<a href=\"https://colab.research.google.com/github/Huynhngocthanh/Baitonghop/blob/main/BT13.ipynb\" target=\"_parent\"><img src=\"https://colab.research.google.com/assets/colab-badge.svg\" alt=\"Open In Colab\"/></a>"
      ]
    },
    {
      "cell_type": "code",
      "metadata": {
        "id": "cYfS1tJQfG8u"
      },
      "source": [
        "import networkx as nx\n",
        "import matplotlib.pyplot as plt\n",
        "\n",
        "G = nx.DiGraph()\n",
        "G.add_node(\"A\")\n",
        "G.add_node(\"B\")\n",
        "G.add_node(\"C\")\n",
        "G.add_node(\"D\")\n",
        "G.add_node(\"E\")\n",
        "G.add_node(\"F\")\n",
        "G.add_node(\"G\")\n",
        "G.add_edge(\"A\",\"B\")\n",
        "G.add_edge(\"B\",\"C\")\n",
        "G.add_edge(\"C\",\"E\")\n",
        "G.add_edge(\"C\",\"F\")\n",
        "G.add_edge(\"D\",\"E\")\n",
        "G.add_edge(\"F\",\"G\")\n",
        "\n",
        "print(G.nodes())\n",
        "print(G.edges())\n",
        "\n",
        "pos = nx.spring_layout(G)\n",
        "\n",
        "nx.draw_networkx_nodes(G, pos)\n",
        "nx.draw_networkx_labels(G, pos)\n",
        "nx.draw_networkx_edges(G, pos, edge_color='r', arrows = True)\n",
        "\n",
        "plt.show()"
      ],
      "execution_count": null,
      "outputs": []
    }
  ]
}