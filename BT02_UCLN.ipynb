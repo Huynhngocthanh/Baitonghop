{
  "nbformat": 4,
  "nbformat_minor": 0,
  "metadata": {
    "colab": {
      "name": "BT02_UCLN.ipynb",
      "provenance": [],
      "authorship_tag": "ABX9TyPGaz591HJEjbuJGwnCuWLK",
      "include_colab_link": true
    },
    "kernelspec": {
      "name": "python3",
      "display_name": "Python 3"
    },
    "language_info": {
      "name": "python"
    }
  },
  "cells": [
    {
      "cell_type": "markdown",
      "metadata": {
        "id": "view-in-github",
        "colab_type": "text"
      },
      "source": [
        "<a href=\"https://colab.research.google.com/github/Huynhngocthanh/Baitonghop/blob/main/BT02_UCLN.ipynb\" target=\"_parent\"><img src=\"https://colab.research.google.com/assets/colab-badge.svg\" alt=\"Open In Colab\"/></a>"
      ]
    },
    {
      "cell_type": "code",
      "metadata": {
        "id": "F-5PSdZJZLSi"
      },
      "source": [
        "a = int(input('nhap a = '))\n",
        "b = int(input('nhap b = '))\n",
        "\n",
        "def uscln(a, b):\n",
        "    if (b == 0):\n",
        "        return a;\n",
        "    return uscln(b, a % b);\n",
        "print('UCLN của',a,'và',b,'là:',uscln(a,b))"
      ],
      "execution_count": null,
      "outputs": []
    }
  ]
}