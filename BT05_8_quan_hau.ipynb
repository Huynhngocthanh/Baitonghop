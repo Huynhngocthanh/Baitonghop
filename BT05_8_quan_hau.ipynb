{
  "nbformat": 4,
  "nbformat_minor": 0,
  "metadata": {
    "colab": {
      "name": "BT05_8_quan_hau.ipynb",
      "provenance": [],
      "authorship_tag": "ABX9TyPI+qbhyWuqLK95ySzBAvl7",
      "include_colab_link": true
    },
    "kernelspec": {
      "name": "python3",
      "display_name": "Python 3"
    },
    "language_info": {
      "name": "python"
    }
  },
  "cells": [
    {
      "cell_type": "markdown",
      "metadata": {
        "id": "view-in-github",
        "colab_type": "text"
      },
      "source": [
        "<a href=\"https://colab.research.google.com/github/Huynhngocthanh/Baitonghop/blob/main/BT05_8_quan_hau.ipynb\" target=\"_parent\"><img src=\"https://colab.research.google.com/assets/colab-badge.svg\" alt=\"Open In Colab\"/></a>"
      ]
    },
    {
      "cell_type": "code",
      "metadata": {
        "id": "yY73FJvDcoE4"
      },
      "source": [
        "from itertools import permutations\n",
        "\n",
        "N=8\n",
        "sol=0\n",
        "cols = range(N)\n",
        "for combo in permutations(cols):                      \n",
        "    if N==len(set(combo[i]+i for i in cols))==len(set(combo[i]-i for i in cols)):\n",
        "        sol += 1\n",
        "        print('Solution '+str(sol)+': '+str(combo)+'\\n')  \n",
        "        print(\"\\n\".join(' o ' * i + ' X ' + ' o ' * (N-i-1) for i in combo) + \"\\n\\n\\n\\n\")"
      ],
      "execution_count": null,
      "outputs": []
    }
  ]
}